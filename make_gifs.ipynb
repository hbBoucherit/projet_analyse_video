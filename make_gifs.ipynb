{
 "metadata": {
  "language_info": {
   "codemirror_mode": {
    "name": "ipython",
    "version": 3
   },
   "file_extension": ".py",
   "mimetype": "text/x-python",
   "name": "python",
   "nbconvert_exporter": "python",
   "pygments_lexer": "ipython3",
   "version": "3.8.5-final"
  },
  "orig_nbformat": 2,
  "kernelspec": {
   "name": "python3",
   "display_name": "Python 3.8.5 64-bit ('tf-gpu': conda)",
   "metadata": {
    "interpreter": {
     "hash": "919e71040b1dff306f73871fdba09abd9956b442c22f81c146e4065619481191"
    }
   }
  }
 },
 "nbformat": 4,
 "nbformat_minor": 2,
 "cells": [
  {
   "cell_type": "code",
   "execution_count": 1,
   "metadata": {},
   "outputs": [],
   "source": [
    "from PIL import Image, ImageDraw\n",
    "from pathlib import Path"
   ]
  },
  {
   "cell_type": "code",
   "execution_count": 5,
   "metadata": {},
   "outputs": [],
   "source": [
    "directory = 'result'\n",
    "\n",
    "images = []\n",
    "for img_path in Path(directory).glob('*.png'):\n",
    "    images.append(Image.open(img_path).resize((600, 600)))\n",
    "\n",
    "images[0].save(f'{directory}/conf_mat.gif', save_all=True, \n",
    "            append_images=images[1:], optimize=False, duration=500, loop=0)\n",
    "\n"
   ]
  },
  {
   "cell_type": "code",
   "execution_count": null,
   "metadata": {},
   "outputs": [],
   "source": []
  }
 ]
}