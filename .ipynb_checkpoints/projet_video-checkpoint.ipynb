{
 "cells": [
  {
   "cell_type": "markdown",
   "metadata": {},
   "source": [
    "#### Nous avons construit notre modèle de classification avec Tensorflow Keras en utilisant un des modèles pré-entraînés de keras 'MobileNetV2'."
   ]
  },
  {
   "cell_type": "code",
   "execution_count": 1,
   "metadata": {},
   "outputs": [],
   "source": [
    "import os\n",
    "import numpy as np\n",
    "import tensorflow as tf\n",
    "from tensorflow.keras.applications import MobileNetV2\n",
    "from tensorflow.keras.preprocessing.image import ImageDataGenerator\n",
    "from tensorflow.keras.models import Sequential, load_model\n",
    "from tensorflow.keras.layers import Dense, Dropout\n",
    "from tensorflow.keras.optimizers import Adam\n",
    "from tensorflow.keras.callbacks import ModelCheckpoint\n",
    "from sklearn.metrics import confusion_matrix, accuracy_score, balanced_accuracy_score\n",
    "import itertools\n",
    "import matplotlib.pyplot as plt \n",
    "from sklearn.metrics import classification_report"
   ]
  },
  {
   "cell_type": "markdown",
   "metadata": {},
   "source": [
    "#### Nous avons utilisé la fonction ImageDataGenerator de Keras pour charger les images à partir de leurs répertoires. \n",
    "#### Nous avons fait une augmentation des données sur les données d'entraînement seulement, en changeant par exemple la rotation de l'image, en la décalant suivant sa longueur et sa largeur et en modifiant sa luminosité."
   ]
  },
  {
   "cell_type": "code",
   "execution_count": 2,
   "metadata": {},
   "outputs": [],
   "source": [
    "batch_size = 16\n",
    "# Data directory\n",
    "train_directory = 'DB/train'\n",
    "test_directory = 'DB/test'\n",
    "\n",
    "# Loading train set + Applying data augmentation on train set\n",
    "train_datagen = ImageDataGenerator(rescale=1./255,\n",
    "        rotation_range=20,\n",
    "        width_shift_range=0.1,\n",
    "        height_shift_range=0.1,\n",
    "        shear_range=0.2,\n",
    "        zoom_range=0.2,\n",
    "        brightness_range=[0.8,1.0],\n",
    "        fill_mode=\"nearest\")\n",
    "\n",
    "# Loading test set\n",
    "test_datagen = ImageDataGenerator(rescale=1./255)"
   ]
  },
  {
   "cell_type": "markdown",
   "metadata": {},
   "source": [
    "#### La taille des images qui constituent notre base de données est de 227x227, étant donné que le modèle que nous avons choisi est pré-entraîné sur des images de taille 224x224, nous avons légèrement baissé leurs dimensions afin que l'on puisse les fournir au modèle."
   ]
  },
  {
   "cell_type": "code",
   "execution_count": 3,
   "metadata": {},
   "outputs": [
    {
     "name": "stdout",
     "output_type": "stream",
     "text": [
      "Found 4736 images belonging to 5 classes.\n",
      "Found 3568 images belonging to 5 classes.\n"
     ]
    }
   ],
   "source": [
    "# Generating train batches\n",
    "train_batches = train_datagen.flow_from_directory(\n",
    "        train_directory,\n",
    "        target_size=(224,224),\n",
    "        batch_size=batch_size,\n",
    "        color_mode=\"rgb\",\n",
    "        class_mode='categorical',\n",
    "        shuffle=True)\n",
    "\n",
    "# Generating test batches\n",
    "test_batches = test_datagen.flow_from_directory(\n",
    "        test_directory,\n",
    "        target_size=(224,224),\n",
    "        batch_size=batch_size,\n",
    "        color_mode=\"rgb\",\n",
    "        class_mode='categorical',\n",
    "        shuffle=True)"
   ]
  },
  {
   "cell_type": "markdown",
   "metadata": {},
   "source": [
    "#### Nous avons choisi comme modèle le 'MobileNetV2' pré-entraîné sur ImageNet (les images sont de taille 224x224 et sous format RGB). Nous avons choisi ce modèle car il est celui qui contient le moins de paramètres à entraîner et car il a en même temps fourni de très bons résultats sur la base de données d'ImageNet."
   ]
  },
  {
   "cell_type": "code",
   "execution_count": 4,
   "metadata": {},
   "outputs": [],
   "source": [
    "# Model architecture \n",
    "# We used pretrained model MobileNetV2 and loaded ImageNet's weight\n",
    "mobilenet = MobileNetV2(weights = 'imagenet', include_top = True, input_shape=(224,224,3))"
   ]
  },
  {
   "cell_type": "markdown",
   "metadata": {},
   "source": [
    "#### Nous créons ici un modèle qui reprendra toutes les couches du modèle importé 'mobilenet', on lui ajoutera ensuite la dernière couche de classification avec 5 classes."
   ]
  },
  {
   "cell_type": "code",
   "execution_count": 5,
   "metadata": {},
   "outputs": [],
   "source": [
    "model = Sequential()\n",
    "model.add(mobilenet)"
   ]
  },
  {
   "cell_type": "code",
   "execution_count": 6,
   "metadata": {},
   "outputs": [
    {
     "name": "stdout",
     "output_type": "stream",
     "text": [
      "Model: \"sequential\"\n",
      "_________________________________________________________________\n",
      "Layer (type)                 Output Shape              Param #   \n",
      "=================================================================\n",
      "mobilenetv2_1.00_224 (Functi (None, 1000)              3538984   \n",
      "_________________________________________________________________\n",
      "dense (Dense)                (None, 5)                 5005      \n",
      "=================================================================\n",
      "Total params: 3,543,989\n",
      "Trainable params: 3,509,877\n",
      "Non-trainable params: 34,112\n",
      "_________________________________________________________________\n"
     ]
    }
   ],
   "source": [
    "# Added classification layer \n",
    "model.add(Dense(5, activation = 'softmax'))\n",
    "model.summary()"
   ]
  },
  {
   "cell_type": "code",
   "execution_count": 7,
   "metadata": {},
   "outputs": [],
   "source": [
    "checkpoint_filepath = '/tmp/checkpoint'\n",
    "model_checkpoint_callback = ModelCheckpoint(\n",
    "    filepath=checkpoint_filepath,\n",
    "    save_weights_only=True,\n",
    "    monitor='val_accuracy',\n",
    "    mode='max',\n",
    "    save_best_only=True)"
   ]
  },
  {
   "cell_type": "code",
   "execution_count": null,
   "metadata": {},
   "outputs": [],
   "source": [
    "# Model training\n",
    "num_train = 4736\n",
    "num_val = 3568\n",
    "num_epoch = 10\n",
    "\n",
    "model.compile(loss='categorical_crossentropy', optimizer=Adam(lr=1e-5, decay=1e-6), metrics=['acc'])\n",
    "model.fit(\n",
    "        train_batches,\n",
    "        steps_per_epoch=num_train // batch_size,\n",
    "        epochs=num_epoch,\n",
    "        validation_data=test_batches,\n",
    "        validation_steps=num_val // batch_size,\n",
    "        callbacks=[model_checkpoint_callback])\n",
    "model.save('models/mobilenet_modele.h5')"
   ]
  },
  {
   "cell_type": "markdown",
   "metadata": {},
   "source": [
    "# Évaluation du modèle "
   ]
  },
  {
   "cell_type": "markdown",
   "metadata": {},
   "source": [
    "#### Nous évaluons notre modèle sur le set de test seulement."
   ]
  },
  {
   "cell_type": "code",
   "execution_count": 8,
   "metadata": {},
   "outputs": [
    {
     "name": "stdout",
     "output_type": "stream",
     "text": [
      "Found 3568 images belonging to 5 classes.\n"
     ]
    }
   ],
   "source": [
    "test_batches = test_datagen.flow_from_directory(\n",
    "        test_directory,\n",
    "        target_size=(224,224),\n",
    "        batch_size=1000,\n",
    "        color_mode=\"rgb\",\n",
    "        class_mode='categorical',\n",
    "        shuffle=True)"
   ]
  },
  {
   "cell_type": "code",
   "execution_count": 10,
   "metadata": {},
   "outputs": [
    {
     "name": "stdout",
     "output_type": "stream",
     "text": [
      "WARNING:tensorflow:No training configuration found in the save file, so the model was *not* compiled. Compile it manually.\n"
     ]
    }
   ],
   "source": [
    "model = load_model('models/mobilenet_model.h5')"
   ]
  },
  {
   "cell_type": "code",
   "execution_count": 11,
   "metadata": {},
   "outputs": [],
   "source": [
    "# Getting true labels from test_batches \n",
    "test_imgs, test_labels = next(test_batches) \n",
    "for i in range (test_labels.shape[0]):\n",
    "    test_labels[i] = np.argmax(test_labels[i])\n",
    "test_labels = test_labels[:,0]"
   ]
  },
  {
   "cell_type": "code",
   "execution_count": 12,
   "metadata": {},
   "outputs": [
    {
     "name": "stdout",
     "output_type": "stream",
     "text": [
      "WARNING:tensorflow:From <ipython-input-12-503f600f3019>:2: Model.predict_generator (from tensorflow.python.keras.engine.training) is deprecated and will be removed in a future version.\n",
      "Instructions for updating:\n",
      "Please use Model.predict, which supports generators.\n"
     ]
    }
   ],
   "source": [
    "# Predictions on test batches\n",
    "predictions = model.predict_generator(test_batches, steps=1, verbose=0)\n",
    "for i in range (predictions.shape[0]):\n",
    "    predictions[i] = np.argmax(predictions[i])\n",
    "predictions = predictions[:,0]"
   ]
  },
  {
   "cell_type": "markdown",
   "metadata": {},
   "source": [
    "#### Accuracy du modèle sur le set de test "
   ]
  },
  {
   "cell_type": "code",
   "execution_count": 13,
   "metadata": {},
   "outputs": [
    {
     "name": "stdout",
     "output_type": "stream",
     "text": [
      "Accuracy score : 0.971\n"
     ]
    }
   ],
   "source": [
    "accuracy = accuracy_score(test_labels, predictions)\n",
    "print(\"Accuracy score : \" + str(accuracy))"
   ]
  },
  {
   "cell_type": "markdown",
   "metadata": {},
   "source": [
    "#### La 'balanced accuracy score' permet de nous donner une justesse qui prend en considération le nombre d'images pour chaque classe. "
   ]
  },
  {
   "cell_type": "code",
   "execution_count": 14,
   "metadata": {},
   "outputs": [
    {
     "name": "stdout",
     "output_type": "stream",
     "text": [
      "Balanced accuracy score : 0.9738198315127844\n"
     ]
    }
   ],
   "source": [
    "balanced_accuracy = balanced_accuracy_score(test_labels, predictions)\n",
    "print(\"Balanced accuracy score : \" + str(balanced_accuracy))"
   ]
  },
  {
   "cell_type": "markdown",
   "metadata": {},
   "source": [
    "### Matrice de confusion"
   ]
  },
  {
   "cell_type": "markdown",
   "metadata": {},
   "source": [
    "#### Lorsque l'on fait de la classification multiclasse, il est important de ne pas se limiter à l'accuracy pour évaluer le modèle. C'est pour cela que nous dessinons la matrice de confusion suivante qui permet de montrer les résultats de chaque classe."
   ]
  },
  {
   "cell_type": "code",
   "execution_count": 15,
   "metadata": {},
   "outputs": [],
   "source": [
    "cm = confusion_matrix(test_labels, predictions)"
   ]
  },
  {
   "cell_type": "code",
   "execution_count": 16,
   "metadata": {},
   "outputs": [],
   "source": [
    "def plot_confusion_matrix(cm, classes, normalize=True, title='Confusion matrix', cmap=plt.cm.Reds):\n",
    "    if normalize : \n",
    "        cm = (cm.astype('float') / cm.sum(axis=1)[:, np.newaxis]).round(2)\n",
    "    \n",
    "    thresh = 0.5\n",
    "    for i, j in itertools.product(range(cm.shape[0]), range(cm.shape[1])):\n",
    "        plt.text(j, i, cm[i,j],\n",
    "                horizontalalignment=\"center\",verticalalignment=\"center\",\n",
    "                color = \"white\" if cm[i,j] > thresh else \"black\")\n",
    "        \n",
    "    plt.imshow(cm, interpolation='nearest', cmap=cmap)\n",
    "    plt.title(title)\n",
    "    plt.colorbar()\n",
    "    tick_marks = np.arange(0,len(classes))\n",
    "    plt.xticks(tick_marks, classes, rotation=45)\n",
    "    plt.yticks(tick_marks, classes)\n",
    "    plt.ylabel('True label')\n",
    "    plt.xlabel('Predicted label')"
   ]
  },
  {
   "cell_type": "code",
   "execution_count": 17,
   "metadata": {},
   "outputs": [
    {
     "data": {
      "image/png": "[encoded data removed]",
      "text/plain": [
       "<Figure size 432x288 with 2 Axes>"
      ]
     },
     "metadata": {
      "needs_background": "light"
     },
     "output_type": "display_data"
    }
   ],
   "source": [
    "cm_plot_labels = ['Bowl', 'CanOfCocaCola','MilkBottle','Rice','Sugar']\n",
    "plot_confusion_matrix(cm, cm_plot_labels, title='Normalized confusion matrix')"
   ]
  },
  {
   "cell_type": "markdown",
   "metadata": {},
   "source": [
    "### Autres métriques "
   ]
  },
  {
   "cell_type": "markdown",
   "metadata": {},
   "source": [
    "#### Nous utilisons ci-dessous d'autres métriques (précision, rappel et score F1) pour pousser notre analyse sur les résultats du modèle."
   ]
  },
  {
   "cell_type": "code",
   "execution_count": 18,
   "metadata": {},
   "outputs": [
    {
     "name": "stdout",
     "output_type": "stream",
     "text": [
      "               precision    recall  f1-score   support\n",
      "\n",
      "         Bowl       0.91      0.99      0.95       166\n",
      "CanOfCocaCola       0.98      0.98      0.98       180\n",
      "   MilkBottle       0.98      0.98      0.98       177\n",
      "         Rice       1.00      0.92      0.96       251\n",
      "        Sugar       0.98      1.00      0.99       226\n",
      "\n",
      "     accuracy                           0.97      1000\n",
      "    macro avg       0.97      0.97      0.97      1000\n",
      " weighted avg       0.97      0.97      0.97      1000\n",
      "\n"
     ]
    }
   ],
   "source": [
    "print(classification_report(test_labels, predictions, target_names=['Bowl', 'CanOfCocaCola','MilkBottle','Rice','Sugar']))"
   ]
  },
  {
   "cell_type": "markdown",
   "metadata": {},
   "source": [
    "#### Les bons résultats de précision, rappel et f1-score indiquent un nombre très faible de faux positifs et de faux négatifs. "
   ]
  }
 ],
 "metadata": {
  "kernelspec": {
   "display_name": "Python 3",
   "language": "python",
   "name": "python3"
  },
  "language_info": {
   "codemirror_mode": {
    "name": "ipython",
    "version": 3
   },
   "file_extension": ".py",
   "mimetype": "text/x-python",
   "name": "python",
   "nbconvert_exporter": "python",
   "pygments_lexer": "ipython3",
   "version": "3.6.9"
  }
 },
 "nbformat": 4,
 "nbformat_minor": 4
}
