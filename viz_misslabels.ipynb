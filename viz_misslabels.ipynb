{
 "metadata": {
  "language_info": {
   "codemirror_mode": {
    "name": "ipython",
    "version": 3
   },
   "file_extension": ".py",
   "mimetype": "text/x-python",
   "name": "python",
   "nbconvert_exporter": "python",
   "pygments_lexer": "ipython3",
   "version": "3.8.5-final"
  },
  "orig_nbformat": 2,
  "kernelspec": {
   "name": "python3",
   "display_name": "Python 3.8.5 64-bit ('tf-gpu': conda)",
   "metadata": {
    "interpreter": {
     "hash": "919e71040b1dff306f73871fdba09abd9956b442c22f81c146e4065619481191"
    }
   }
  }
 },
 "nbformat": 4,
 "nbformat_minor": 2,
 "cells": [
  {
   "cell_type": "code",
   "execution_count": 1,
   "metadata": {},
   "outputs": [],
   "source": [
    "from tensorflow.keras.models import load_model\n",
    "from tensorflow.keras.preprocessing.image import ImageDataGenerator\n",
    "import numpy as np\n",
    "from utils import create_model\n",
    "from tensorflow.keras.losses import CategoricalCrossentropy"
   ]
  },
  {
   "cell_type": "code",
   "execution_count": 2,
   "metadata": {
    "tags": []
   },
   "outputs": [
    {
     "output_type": "stream",
     "name": "stdout",
     "text": [
      "Model: \"sequential\"\n",
      "_________________________________________________________________\n",
      "Layer (type)                 Output Shape              Param #   \n",
      "=================================================================\n",
      "mobilenetv2_1.00_224 (Functi (None, 1000)              3538984   \n",
      "_________________________________________________________________\n",
      "predictions (Dense)          (None, 5)                 5005      \n",
      "=================================================================\n",
      "Total params: 3,543,989\n",
      "Trainable params: 3,509,877\n",
      "Non-trainable params: 34,112\n",
      "_________________________________________________________________\n",
      "Found 4736 images belonging to 5 classes.\n"
     ]
    }
   ],
   "source": [
    "# model = load_model('weights/mobilenet_modele.h5')\n",
    "\n",
    "model = create_model()\n",
    "model.load_weights('logs/11-12-2020-19-47-22/model_checkpoints')\n",
    "\n",
    "model.summary()\n",
    "\n",
    "test_directory = 'DB/train'\n",
    "\n",
    "test_datagen = ImageDataGenerator(rescale=1./255)\n",
    "test_batches = test_datagen.flow_from_directory(\n",
    "        test_directory,\n",
    "        target_size=(224,224),\n",
    "        batch_size=1,\n",
    "        color_mode=\"rgb\",\n",
    "        class_mode='categorical',\n",
    "        shuffle=False)"
   ]
  },
  {
   "cell_type": "code",
   "execution_count": 3,
   "metadata": {
    "tags": []
   },
   "outputs": [],
   "source": [
    "# y_pred_raw = model.predict(test_batches)\n",
    "# y_pred = np.argmax(y_pred_raw, axis=1)\n",
    "# y_true = test_batches.classes\n",
    "\n",
    "# print(y_true, y_pred)"
   ]
  },
  {
   "cell_type": "code",
   "execution_count": 4,
   "metadata": {},
   "outputs": [],
   "source": [
    "# sum([x!=y for x, y in zip(y_true, y_pred)])"
   ]
  },
  {
   "cell_type": "code",
   "execution_count": 5,
   "metadata": {},
   "outputs": [],
   "source": [
    "# num_classes = 5\n",
    "# num_images_per_class = 10\n",
    "\n",
    "# y = np.zeros((num_classes, num_images_per_class, 224, 224, 3))\n",
    "# losses = np.zeros((num_classes, num_images_per_class))\n",
    "\n",
    "# np.where(losses[0] < 1)[0][0]"
   ]
  },
  {
   "cell_type": "code",
   "execution_count": 14,
   "metadata": {},
   "outputs": [
    {
     "output_type": "execute_result",
     "data": {
      "text/plain": [
       "4736"
      ]
     },
     "metadata": {},
     "execution_count": 14
    }
   ],
   "source": [
    "# !pip install tqdm\n",
    "len(test_batches.labels)"
   ]
  },
  {
   "cell_type": "code",
   "execution_count": 21,
   "metadata": {},
   "outputs": [
    {
     "output_type": "execute_result",
     "data": {
      "text/plain": [
       "4"
      ]
     },
     "metadata": {},
     "execution_count": 21
    }
   ],
   "source": [
    "np.argmax([[0,1,0,0,0]])"
   ]
  },
  {
   "cell_type": "code",
   "execution_count": 25,
   "metadata": {
    "tags": []
   },
   "outputs": [
    {
     "output_type": "stream",
     "name": "stderr",
     "text": [
      "100%|██████████| 4736/4736 [04:23<00:00, 17.96it/s]\n"
     ]
    }
   ],
   "source": [
    "from tqdm import tqdm\n",
    "num_classes = 5\n",
    "num_images_per_class = 10\n",
    "scce = CategoricalCrossentropy()\n",
    "\n",
    "images = np.zeros((num_classes, num_images_per_class, 224, 224, 3))\n",
    "miss_label = np.full((num_classes, num_images_per_class), -1)\n",
    "true_label = np.full((num_classes, num_images_per_class), -1)\n",
    "losses = np.full((num_classes, num_images_per_class), -np.inf)\n",
    "\n",
    "total = len(test_batches.labels)\n",
    "\n",
    "for idx, (img, label) in tqdm(enumerate(test_batches), total=total):\n",
    "    pred = model.predict(img)\n",
    "    # print(pred.shape, label.shape)\n",
    "\n",
    "    lbl = np.argmax(label)\n",
    "    score = scce(label, pred).numpy()\n",
    "    if any(losses[lbl] < score):\n",
    "        index = np.where(losses[lbl] < score)[0][0]\n",
    "        losses[lbl][index] = score\n",
    "        images[lbl][index] = img\n",
    "        miss_label[lbl][index] = np.argmax(pred)\n",
    "\n",
    "    if idx >= total: break"
   ]
  },
  {
   "cell_type": "code",
   "execution_count": 48,
   "metadata": {},
   "outputs": [
    {
     "output_type": "execute_result",
     "data": {
      "text/plain": [
       "array([[[[ 39,  29,  17],\n",
       "         [ 42,  32,  20],\n",
       "         [ 48,  38,  28],\n",
       "         ...,\n",
       "         [ 97,  78,  63],\n",
       "         [100,  81,  67],\n",
       "         [100,  83,  67]],\n",
       "\n",
       "        [[ 40,  31,  27],\n",
       "         [ 39,  30,  26],\n",
       "         [ 39,  30,  23],\n",
       "         ...,\n",
       "         [ 98,  79,  67],\n",
       "         [ 98,  81,  68],\n",
       "         [ 98,  82,  67]],\n",
       "\n",
       "        [[ 35,  28,  26],\n",
       "         [ 39,  32,  30],\n",
       "         [ 45,  38,  33],\n",
       "         ...,\n",
       "         [ 94,  79,  64],\n",
       "         [ 96,  81,  65],\n",
       "         [ 99,  82,  64]],\n",
       "\n",
       "        ...,\n",
       "\n",
       "        [[ 94,  79,  50],\n",
       "         [ 95,  78,  52],\n",
       "         [ 96,  77,  52],\n",
       "         ...,\n",
       "         [ 42,  33,  25],\n",
       "         [ 43,  34,  22],\n",
       "         [ 44,  36,  23]],\n",
       "\n",
       "        [[ 93,  77,  52],\n",
       "         [ 94,  77,  53],\n",
       "         [ 94,  77,  53],\n",
       "         ...,\n",
       "         [ 42,  34,  23],\n",
       "         [ 41,  35,  24],\n",
       "         [ 44,  38,  25]],\n",
       "\n",
       "        [[ 90,  75,  53],\n",
       "         [ 92,  76,  54],\n",
       "         [ 93,  75,  54],\n",
       "         ...,\n",
       "         [ 43,  35,  24],\n",
       "         [ 43,  37,  25],\n",
       "         [ 45,  39,  27]]]], dtype=uint8)"
      ]
     },
     "metadata": {},
     "execution_count": 48
    }
   ],
   "source": [
    "np.uint8(img*255)"
   ]
  },
  {
   "cell_type": "code",
   "execution_count": 28,
   "metadata": {},
   "outputs": [
    {
     "output_type": "execute_result",
     "data": {
      "text/plain": [
       "(50, 224, 224, 3)"
      ]
     },
     "metadata": {},
     "execution_count": 28
    }
   ],
   "source": [
    "np.concatenate(images, axis=0).shape"
   ]
  },
  {
   "cell_type": "code",
   "execution_count": 36,
   "metadata": {},
   "outputs": [],
   "source": [
    "new_images = np.stack(images.)"
   ]
  },
  {
   "cell_type": "code",
   "execution_count": 29,
   "metadata": {},
   "outputs": [],
   "source": [
    "from PIL import Image"
   ]
  },
  {
   "cell_type": "code",
   "execution_count": 52,
   "metadata": {},
   "outputs": [
    {
     "output_type": "execute_result",
     "data": {
      "text/plain": [
       "0"
      ]
     },
     "metadata": {},
     "execution_count": 52
    }
   ],
   "source": [
    "miss_label[1][0]"
   ]
  },
  {
   "cell_type": "code",
   "execution_count": 49,
   "metadata": {},
   "outputs": [
    {
     "output_type": "execute_result",
     "data": {
      "text/plain": [
       "<PIL.Image.Image image mode=RGB size=224x224 at 0x2052B3CDF70>"
      ],
      "image/png": "[encoded data removed]"
     },
     "metadata": {},
     "execution_count": 49
    }
   ],
   "source": [
    "Image.fromarray(np.uint8(images[0][0]*255))"
   ]
  },
  {
   "cell_type": "code",
   "execution_count": null,
   "metadata": {},
   "outputs": [],
   "source": [
    "def get_concat_h(im1, im2):\n",
    "    dst = Image.new('RGB', (im1.width + im2.width, im1.height))\n",
    "    dst.paste(im1, (0, 0))\n",
    "    dst.paste(im2, (im1.width, 0))\n",
    "    return dst\n",
    "\n",
    "def get_concat_v(im1, im2):\n",
    "    dst = Image.new('RGB', (im1.width, im1.height + im2.height))\n",
    "    dst.paste(im1, (0, 0))\n",
    "    dst.paste(im2, (0, im1.height))\n",
    "    return dst\n",
    "\n",
    "get_concat_h(im1, im1).save('data/dst/pillow_concat_h.jpg')\n",
    "get_concat_v(im1, im1).save('data/dst/pillow_concat_v.jpg')"
   ]
  },
  {
   "cell_type": "code",
   "execution_count": 11,
   "metadata": {},
   "outputs": [
    {
     "output_type": "execute_result",
     "data": {
      "text/plain": [
       "array([[[0.42352945, 0.34509805, 0.227451  ],\n",
       "        [0.43137258, 0.35294119, 0.23137257],\n",
       "        [0.41176474, 0.33333334, 0.21568629],\n",
       "        ...,\n",
       "        [0.25490198, 0.20000002, 0.10196079],\n",
       "        [0.24313727, 0.18823531, 0.09019608],\n",
       "        [0.23529413, 0.18039216, 0.08235294]],\n",
       "\n",
       "       [[0.40784317, 0.34509805, 0.21568629],\n",
       "        [0.4039216 , 0.34117648, 0.21176472],\n",
       "        [0.40000004, 0.32941177, 0.20392159],\n",
       "        ...,\n",
       "        [0.25490198, 0.20784315, 0.10588236],\n",
       "        [0.25882354, 0.21176472, 0.10980393],\n",
       "        [0.26666668, 0.21960786, 0.11764707]],\n",
       "\n",
       "       [[0.40784317, 0.34509805, 0.21960786],\n",
       "        [0.40000004, 0.33725491, 0.21176472],\n",
       "        [0.40000004, 0.32549021, 0.20392159],\n",
       "        ...,\n",
       "        [0.25490198, 0.20784315, 0.10196079],\n",
       "        [0.25490198, 0.20784315, 0.10980393],\n",
       "        [0.25882354, 0.21176472, 0.10980393]],\n",
       "\n",
       "       ...,\n",
       "\n",
       "       [[0.31764707, 0.25490198, 0.14117648],\n",
       "        [0.32156864, 0.25490198, 0.14509805],\n",
       "        [0.32156864, 0.25490198, 0.15294118],\n",
       "        ...,\n",
       "        [0.36862746, 0.28627452, 0.18039216],\n",
       "        [0.34117648, 0.26666668, 0.16078432],\n",
       "        [0.32549021, 0.25098041, 0.14509805]],\n",
       "\n",
       "       [[0.30588236, 0.2392157 , 0.12941177],\n",
       "        [0.31764707, 0.25098041, 0.14117648],\n",
       "        [0.32156864, 0.25490198, 0.15294118],\n",
       "        ...,\n",
       "        [0.38823533, 0.30588236, 0.20000002],\n",
       "        [0.37254903, 0.29803923, 0.19215688],\n",
       "        [0.34901962, 0.27450982, 0.16862746]],\n",
       "\n",
       "       [[0.29019609, 0.22352943, 0.1137255 ],\n",
       "        [0.30588236, 0.2392157 , 0.12941177],\n",
       "        [0.3137255 , 0.24705884, 0.13725491],\n",
       "        ...,\n",
       "        [0.4039216 , 0.32549021, 0.20784315],\n",
       "        [0.3921569 , 0.30980393, 0.21176472],\n",
       "        [0.38823533, 0.30588236, 0.20784315]]])"
      ]
     },
     "metadata": {},
     "execution_count": 11
    }
   ],
   "source": [
    "import matplotlib.pyplot as plt\n",
    "from mpl_toolkits.axes_grid1 import ImageGrid\n",
    "import numpy as np\n",
    "\n",
    "\n",
    "fig = plt.figure(figsize=(num_classes, num_images_per_class))\n",
    "grid = ImageGrid(fig, 111,  # similar to subplot(111)\n",
    "                 nrows_ncols=(num_classes, num_images_per_class),  # creates 2x2 grid of axes\n",
    "                 axes_pad=0.1,  # pad between axes in inch.\n",
    "                 )\n",
    "\n",
    "for ax, im in zip(grid, [im1, im2, im3, im4]):\n",
    "    # Iterating over the grid returns the Axes.\n",
    "    ax.imshow(im)\n",
    "\n",
    "plt.show()"
   ]
  },
  {
   "cell_type": "code",
   "execution_count": null,
   "metadata": {},
   "outputs": [],
   "source": [
    "# y_true = [[0, 1, 0]]\n",
    "# y_pred = [[0.05, 0.95, 0], [0.1, 0.8, 0.1]]\n",
    "# # Using 'auto'/'sum_over_batch_size' reduction type.\n",
    "# cce = tf.keras.losses.CategoricalCrossentropy()\n",
    "# cce(y_true, y_pred).numpy()\n",
    "\n",
    "# >>> 0.1\n",
    "\n",
    "# ce_scores = []\n",
    "\n",
    "# for im in test_batches:"
   ]
  }
 ]
}